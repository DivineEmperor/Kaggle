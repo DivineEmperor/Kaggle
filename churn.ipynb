{
 "cells": [
  {
   "cell_type": "code",
   "execution_count": 159,
   "metadata": {},
   "outputs": [],
   "source": [
    "import pandas as pd\n",
    "import numpy as np\n",
    "from sklearn.preprocessing import OneHotEncoder\n",
    "import xgboost as xgb\n",
    "import pandas as pd\n",
    "from sklearn.model_selection import train_test_split\n",
    "from sklearn.metrics import accuracy_score, classification_report"
   ]
  },
  {
   "cell_type": "code",
   "execution_count": 160,
   "metadata": {},
   "outputs": [],
   "source": [
    "train_df = pd.read_csv('train.csv')\n",
    "y = train_df['Exited']\n",
    "test_df = pd.read_csv('test.csv')\n"
   ]
  },
  {
   "cell_type": "code",
   "execution_count": 173,
   "metadata": {},
   "outputs": [],
   "source": [
    "def clean_nomalize(data):\n",
    "\n",
    "    \n",
    "\n",
    "    if 'Exited' in data.columns:\n",
    "        train = data.drop(['Exited'],axis=1,inplace=True)\n",
    "\n",
    "\n",
    "    encoder = OneHotEncoder(sparse=False)\n",
    "\n",
    "    encoded_data = encoder.fit_transform(data[['Geography','Gender']])\n",
    "\n",
    "    encoded_data_frame = pd.DataFrame(encoded_data, columns= encoder.get_feature_names_out())\n",
    "\n",
    "    train = pd.concat([data,encoded_data_frame],axis=1)\n",
    "\n",
    "    train.drop(['Geography','Gender','id','CustomerId','Surname'],axis=1,inplace=True)\n",
    "\n",
    "    \n",
    "    \n",
    "\n",
    "    return train\n",
    "\n",
    "\n"
   ]
  },
  {
   "cell_type": "code",
   "execution_count": 162,
   "metadata": {},
   "outputs": [],
   "source": [
    "# train_df.describe()\n",
    "\n",
    "\n",
    "# train = train_df.drop(['Surname','Exited'],axis=1)\n",
    "# train.info()\n",
    "\n",
    "# encoder = OneHotEncoder(sparse=False)\n",
    "\n",
    "# encoded_data = encoder.fit_transform(train_df[['Geography','Gender']])\n",
    "\n",
    "# encoded_data_frame = pd.DataFrame(encoded_data, columns= encoder.get_feature_names_out())\n",
    "\n",
    "# encoded_data_frame.info()\n"
   ]
  },
  {
   "cell_type": "code",
   "execution_count": 163,
   "metadata": {},
   "outputs": [],
   "source": [
    "\n",
    "\n",
    "# train = pd.concat([train,encoded_data_frame],axis=1)\n",
    "\n",
    "# train.info()"
   ]
  },
  {
   "cell_type": "code",
   "execution_count": 164,
   "metadata": {},
   "outputs": [],
   "source": [
    "# train.drop(['Geography','Gender','id','CustomerId'],axis=1,inplace=True)\n"
   ]
  },
  {
   "cell_type": "code",
   "execution_count": 174,
   "metadata": {},
   "outputs": [
    {
     "name": "stdout",
     "output_type": "stream",
     "text": [
      "<class 'pandas.core.frame.DataFrame'>\n",
      "RangeIndex: 165034 entries, 0 to 165033\n",
      "Data columns (total 13 columns):\n",
      " #   Column             Non-Null Count   Dtype  \n",
      "---  ------             --------------   -----  \n",
      " 0   CreditScore        165034 non-null  int64  \n",
      " 1   Age                165034 non-null  float64\n",
      " 2   Tenure             165034 non-null  int64  \n",
      " 3   Balance            165034 non-null  float64\n",
      " 4   NumOfProducts      165034 non-null  int64  \n",
      " 5   HasCrCard          165034 non-null  float64\n",
      " 6   IsActiveMember     165034 non-null  float64\n",
      " 7   EstimatedSalary    165034 non-null  float64\n",
      " 8   Geography_France   165034 non-null  float64\n",
      " 9   Geography_Germany  165034 non-null  float64\n",
      " 10  Geography_Spain    165034 non-null  float64\n",
      " 11  Gender_Female      165034 non-null  float64\n",
      " 12  Gender_Male        165034 non-null  float64\n",
      "dtypes: float64(10), int64(3)\n",
      "memory usage: 16.4 MB\n",
      "None\n",
      "<class 'pandas.core.series.Series'>\n",
      "RangeIndex: 165034 entries, 0 to 165033\n",
      "Series name: Exited\n",
      "Non-Null Count   Dtype\n",
      "--------------   -----\n",
      "165034 non-null  int64\n",
      "dtypes: int64(1)\n",
      "memory usage: 1.3 MB\n",
      "None\n"
     ]
    },
    {
     "name": "stderr",
     "output_type": "stream",
     "text": [
      "/Library/Frameworks/Python.framework/Versions/3.10/lib/python3.10/site-packages/sklearn/preprocessing/_encoders.py:975: FutureWarning: `sparse` was renamed to `sparse_output` in version 1.2 and will be removed in 1.4. `sparse_output` is ignored unless you leave `sparse` to its default value.\n",
      "  warnings.warn(\n"
     ]
    }
   ],
   "source": [
    "x = clean_nomalize(train_df)\n",
    "print(x.info())\n",
    "print(y.info())\n"
   ]
  },
  {
   "cell_type": "code",
   "execution_count": 175,
   "metadata": {},
   "outputs": [
    {
     "name": "stdout",
     "output_type": "stream",
     "text": [
      "<class 'pandas.core.frame.DataFrame'>\n",
      "Index: 132027 entries, 149380 to 121958\n",
      "Data columns (total 13 columns):\n",
      " #   Column             Non-Null Count   Dtype  \n",
      "---  ------             --------------   -----  \n",
      " 0   CreditScore        132027 non-null  int64  \n",
      " 1   Age                132027 non-null  float64\n",
      " 2   Tenure             132027 non-null  int64  \n",
      " 3   Balance            132027 non-null  float64\n",
      " 4   NumOfProducts      132027 non-null  int64  \n",
      " 5   HasCrCard          132027 non-null  float64\n",
      " 6   IsActiveMember     132027 non-null  float64\n",
      " 7   EstimatedSalary    132027 non-null  float64\n",
      " 8   Geography_France   132027 non-null  float64\n",
      " 9   Geography_Germany  132027 non-null  float64\n",
      " 10  Geography_Spain    132027 non-null  float64\n",
      " 11  Gender_Female      132027 non-null  float64\n",
      " 12  Gender_Male        132027 non-null  float64\n",
      "dtypes: float64(10), int64(3)\n",
      "memory usage: 14.1 MB\n",
      "None\n"
     ]
    }
   ],
   "source": [
    "X_train, X_test, y_train, y_test = train_test_split(x, y, test_size=0.2, random_state=42)\n",
    "\n",
    "print(X_train.info())"
   ]
  },
  {
   "cell_type": "code",
   "execution_count": 176,
   "metadata": {},
   "outputs": [
    {
     "data": {
      "text/html": [
       "<style>#sk-container-id-7 {color: black;}#sk-container-id-7 pre{padding: 0;}#sk-container-id-7 div.sk-toggleable {background-color: white;}#sk-container-id-7 label.sk-toggleable__label {cursor: pointer;display: block;width: 100%;margin-bottom: 0;padding: 0.3em;box-sizing: border-box;text-align: center;}#sk-container-id-7 label.sk-toggleable__label-arrow:before {content: \"▸\";float: left;margin-right: 0.25em;color: #696969;}#sk-container-id-7 label.sk-toggleable__label-arrow:hover:before {color: black;}#sk-container-id-7 div.sk-estimator:hover label.sk-toggleable__label-arrow:before {color: black;}#sk-container-id-7 div.sk-toggleable__content {max-height: 0;max-width: 0;overflow: hidden;text-align: left;background-color: #f0f8ff;}#sk-container-id-7 div.sk-toggleable__content pre {margin: 0.2em;color: black;border-radius: 0.25em;background-color: #f0f8ff;}#sk-container-id-7 input.sk-toggleable__control:checked~div.sk-toggleable__content {max-height: 200px;max-width: 100%;overflow: auto;}#sk-container-id-7 input.sk-toggleable__control:checked~label.sk-toggleable__label-arrow:before {content: \"▾\";}#sk-container-id-7 div.sk-estimator input.sk-toggleable__control:checked~label.sk-toggleable__label {background-color: #d4ebff;}#sk-container-id-7 div.sk-label input.sk-toggleable__control:checked~label.sk-toggleable__label {background-color: #d4ebff;}#sk-container-id-7 input.sk-hidden--visually {border: 0;clip: rect(1px 1px 1px 1px);clip: rect(1px, 1px, 1px, 1px);height: 1px;margin: -1px;overflow: hidden;padding: 0;position: absolute;width: 1px;}#sk-container-id-7 div.sk-estimator {font-family: monospace;background-color: #f0f8ff;border: 1px dotted black;border-radius: 0.25em;box-sizing: border-box;margin-bottom: 0.5em;}#sk-container-id-7 div.sk-estimator:hover {background-color: #d4ebff;}#sk-container-id-7 div.sk-parallel-item::after {content: \"\";width: 100%;border-bottom: 1px solid gray;flex-grow: 1;}#sk-container-id-7 div.sk-label:hover label.sk-toggleable__label {background-color: #d4ebff;}#sk-container-id-7 div.sk-serial::before {content: \"\";position: absolute;border-left: 1px solid gray;box-sizing: border-box;top: 0;bottom: 0;left: 50%;z-index: 0;}#sk-container-id-7 div.sk-serial {display: flex;flex-direction: column;align-items: center;background-color: white;padding-right: 0.2em;padding-left: 0.2em;position: relative;}#sk-container-id-7 div.sk-item {position: relative;z-index: 1;}#sk-container-id-7 div.sk-parallel {display: flex;align-items: stretch;justify-content: center;background-color: white;position: relative;}#sk-container-id-7 div.sk-item::before, #sk-container-id-7 div.sk-parallel-item::before {content: \"\";position: absolute;border-left: 1px solid gray;box-sizing: border-box;top: 0;bottom: 0;left: 50%;z-index: -1;}#sk-container-id-7 div.sk-parallel-item {display: flex;flex-direction: column;z-index: 1;position: relative;background-color: white;}#sk-container-id-7 div.sk-parallel-item:first-child::after {align-self: flex-end;width: 50%;}#sk-container-id-7 div.sk-parallel-item:last-child::after {align-self: flex-start;width: 50%;}#sk-container-id-7 div.sk-parallel-item:only-child::after {width: 0;}#sk-container-id-7 div.sk-dashed-wrapped {border: 1px dashed gray;margin: 0 0.4em 0.5em 0.4em;box-sizing: border-box;padding-bottom: 0.4em;background-color: white;}#sk-container-id-7 div.sk-label label {font-family: monospace;font-weight: bold;display: inline-block;line-height: 1.2em;}#sk-container-id-7 div.sk-label-container {text-align: center;}#sk-container-id-7 div.sk-container {/* jupyter's `normalize.less` sets `[hidden] { display: none; }` but bootstrap.min.css set `[hidden] { display: none !important; }` so we also need the `!important` here to be able to override the default hidden behavior on the sphinx rendered scikit-learn.org. See: https://github.com/scikit-learn/scikit-learn/issues/21755 */display: inline-block !important;position: relative;}#sk-container-id-7 div.sk-text-repr-fallback {display: none;}</style><div id=\"sk-container-id-7\" class=\"sk-top-container\"><div class=\"sk-text-repr-fallback\"><pre>XGBClassifier(base_score=None, booster=None, callbacks=None,\n",
       "              colsample_bylevel=None, colsample_bynode=None,\n",
       "              colsample_bytree=None, device=None, early_stopping_rounds=None,\n",
       "              enable_categorical=False, eval_metric=None, feature_types=None,\n",
       "              gamma=None, grow_policy=None, importance_type=None,\n",
       "              interaction_constraints=None, learning_rate=0.1, max_bin=None,\n",
       "              max_cat_threshold=None, max_cat_to_onehot=None,\n",
       "              max_delta_step=None, max_depth=3, max_leaves=None,\n",
       "              min_child_weight=None, missing=nan, monotone_constraints=None,\n",
       "              multi_strategy=None, n_estimators=100, n_jobs=None,\n",
       "              num_parallel_tree=None, random_state=None, ...)</pre><b>In a Jupyter environment, please rerun this cell to show the HTML representation or trust the notebook. <br />On GitHub, the HTML representation is unable to render, please try loading this page with nbviewer.org.</b></div><div class=\"sk-container\" hidden><div class=\"sk-item\"><div class=\"sk-estimator sk-toggleable\"><input class=\"sk-toggleable__control sk-hidden--visually\" id=\"sk-estimator-id-7\" type=\"checkbox\" checked><label for=\"sk-estimator-id-7\" class=\"sk-toggleable__label sk-toggleable__label-arrow\">XGBClassifier</label><div class=\"sk-toggleable__content\"><pre>XGBClassifier(base_score=None, booster=None, callbacks=None,\n",
       "              colsample_bylevel=None, colsample_bynode=None,\n",
       "              colsample_bytree=None, device=None, early_stopping_rounds=None,\n",
       "              enable_categorical=False, eval_metric=None, feature_types=None,\n",
       "              gamma=None, grow_policy=None, importance_type=None,\n",
       "              interaction_constraints=None, learning_rate=0.1, max_bin=None,\n",
       "              max_cat_threshold=None, max_cat_to_onehot=None,\n",
       "              max_delta_step=None, max_depth=3, max_leaves=None,\n",
       "              min_child_weight=None, missing=nan, monotone_constraints=None,\n",
       "              multi_strategy=None, n_estimators=100, n_jobs=None,\n",
       "              num_parallel_tree=None, random_state=None, ...)</pre></div></div></div></div></div>"
      ],
      "text/plain": [
       "XGBClassifier(base_score=None, booster=None, callbacks=None,\n",
       "              colsample_bylevel=None, colsample_bynode=None,\n",
       "              colsample_bytree=None, device=None, early_stopping_rounds=None,\n",
       "              enable_categorical=False, eval_metric=None, feature_types=None,\n",
       "              gamma=None, grow_policy=None, importance_type=None,\n",
       "              interaction_constraints=None, learning_rate=0.1, max_bin=None,\n",
       "              max_cat_threshold=None, max_cat_to_onehot=None,\n",
       "              max_delta_step=None, max_depth=3, max_leaves=None,\n",
       "              min_child_weight=None, missing=nan, monotone_constraints=None,\n",
       "              multi_strategy=None, n_estimators=100, n_jobs=None,\n",
       "              num_parallel_tree=None, random_state=None, ...)"
      ]
     },
     "execution_count": 176,
     "metadata": {},
     "output_type": "execute_result"
    }
   ],
   "source": [
    "model = xgb.XGBClassifier(\n",
    "    objective='binary:logistic',  # for binary classification\n",
    "    max_depth=3,  # maximum depth of each tree\n",
    "    n_estimators=100,  # number of boosting rounds\n",
    "    learning_rate=0.1  # step size shrinkage for boosting\n",
    ")\n",
    "\n",
    "# Train the model on the training data\n",
    "model.fit(X_train, y_train)"
   ]
  },
  {
   "cell_type": "code",
   "execution_count": 178,
   "metadata": {},
   "outputs": [],
   "source": [
    "y_pred = model.predict(X_test)"
   ]
  },
  {
   "cell_type": "code",
   "execution_count": 179,
   "metadata": {},
   "outputs": [
    {
     "name": "stdout",
     "output_type": "stream",
     "text": [
      "Accuracy: 0.8666040536855818\n",
      "              precision    recall  f1-score   support\n",
      "\n",
      "           0       0.89      0.95      0.92     26052\n",
      "           1       0.76      0.54      0.63      6955\n",
      "\n",
      "    accuracy                           0.87     33007\n",
      "   macro avg       0.82      0.75      0.77     33007\n",
      "weighted avg       0.86      0.87      0.86     33007\n",
      "\n"
     ]
    }
   ],
   "source": [
    "accuracy = accuracy_score(y_test, y_pred)\n",
    "report = classification_report(y_test, y_pred)\n",
    "print(f'Accuracy: {accuracy}')\n",
    "print(report)"
   ]
  },
  {
   "cell_type": "code",
   "execution_count": 180,
   "metadata": {},
   "outputs": [
    {
     "name": "stdout",
     "output_type": "stream",
     "text": [
      "<class 'pandas.core.frame.DataFrame'>\n",
      "RangeIndex: 110023 entries, 0 to 110022\n",
      "Data columns (total 13 columns):\n",
      " #   Column             Non-Null Count   Dtype  \n",
      "---  ------             --------------   -----  \n",
      " 0   CreditScore        110023 non-null  int64  \n",
      " 1   Age                110023 non-null  float64\n",
      " 2   Tenure             110023 non-null  int64  \n",
      " 3   Balance            110023 non-null  float64\n",
      " 4   NumOfProducts      110023 non-null  int64  \n",
      " 5   HasCrCard          110023 non-null  float64\n",
      " 6   IsActiveMember     110023 non-null  float64\n",
      " 7   EstimatedSalary    110023 non-null  float64\n",
      " 8   Geography_France   110023 non-null  float64\n",
      " 9   Geography_Germany  110023 non-null  float64\n",
      " 10  Geography_Spain    110023 non-null  float64\n",
      " 11  Gender_Female      110023 non-null  float64\n",
      " 12  Gender_Male        110023 non-null  float64\n",
      "dtypes: float64(10), int64(3)\n",
      "memory usage: 10.9 MB\n",
      "None\n"
     ]
    },
    {
     "name": "stderr",
     "output_type": "stream",
     "text": [
      "/Library/Frameworks/Python.framework/Versions/3.10/lib/python3.10/site-packages/sklearn/preprocessing/_encoders.py:975: FutureWarning: `sparse` was renamed to `sparse_output` in version 1.2 and will be removed in 1.4. `sparse_output` is ignored unless you leave `sparse` to its default value.\n",
      "  warnings.warn(\n"
     ]
    }
   ],
   "source": [
    "\n",
    "\n",
    "final_x = clean_nomalize(test_df)\n",
    "print(final_x.info())\n",
    "\n",
    "#final_y = model.predict_proba(final_x)\n",
    "\n",
    "\n"
   ]
  },
  {
   "cell_type": "code",
   "execution_count": 182,
   "metadata": {},
   "outputs": [
    {
     "name": "stdout",
     "output_type": "stream",
     "text": [
      "[[0.9793493  0.02065069]\n",
      " [0.19889832 0.8011017 ]\n",
      " [0.9617752  0.03822482]\n",
      " ...\n",
      " [0.97752583 0.02247419]\n",
      " [0.8481593  0.15184069]\n",
      " [0.8061117  0.19388832]]\n"
     ]
    }
   ],
   "source": [
    "final_y = model.predict_proba(final_x)\n",
    "\n",
    "print(final_y)"
   ]
  },
  {
   "cell_type": "code",
   "execution_count": 186,
   "metadata": {},
   "outputs": [
    {
     "name": "stdout",
     "output_type": "stream",
     "text": [
      "[0 1]\n"
     ]
    }
   ],
   "source": [
    "print(model.classes_)"
   ]
  },
  {
   "cell_type": "code",
   "execution_count": 187,
   "metadata": {},
   "outputs": [
    {
     "name": "stdout",
     "output_type": "stream",
     "text": [
      "<class 'pandas.core.frame.DataFrame'>\n",
      "RangeIndex: 110023 entries, 0 to 110022\n",
      "Data columns (total 14 columns):\n",
      " #   Column           Non-Null Count   Dtype  \n",
      "---  ------           --------------   -----  \n",
      " 0   id               110023 non-null  int64  \n",
      " 1   CustomerId       110023 non-null  int64  \n",
      " 2   Surname          110023 non-null  object \n",
      " 3   CreditScore      110023 non-null  int64  \n",
      " 4   Geography        110023 non-null  object \n",
      " 5   Gender           110023 non-null  object \n",
      " 6   Age              110023 non-null  float64\n",
      " 7   Tenure           110023 non-null  int64  \n",
      " 8   Balance          110023 non-null  float64\n",
      " 9   NumOfProducts    110023 non-null  int64  \n",
      " 10  HasCrCard        110023 non-null  float64\n",
      " 11  IsActiveMember   110023 non-null  float64\n",
      " 12  EstimatedSalary  110023 non-null  float64\n",
      " 13  Exited           110023 non-null  float32\n",
      "dtypes: float32(1), float64(5), int64(5), object(3)\n",
      "memory usage: 11.3+ MB\n",
      "None\n"
     ]
    }
   ],
   "source": [
    "test_df['Exited'] = final_y[:,1]\n",
    "print(test_df.info())\n",
    "\n",
    "\n"
   ]
  }
 ],
 "metadata": {
  "kernelspec": {
   "display_name": "Python 3",
   "language": "python",
   "name": "python3"
  },
  "language_info": {
   "codemirror_mode": {
    "name": "ipython",
    "version": 3
   },
   "file_extension": ".py",
   "mimetype": "text/x-python",
   "name": "python",
   "nbconvert_exporter": "python",
   "pygments_lexer": "ipython3",
   "version": "3.10.11"
  }
 },
 "nbformat": 4,
 "nbformat_minor": 2
}
